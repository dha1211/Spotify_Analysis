{
 "cells": [
  {
   "cell_type": "code",
   "execution_count": 8,
   "id": "8acfd4db-01d8-490f-a546-49b6477fb54a",
   "metadata": {},
   "outputs": [
    {
     "name": "stderr",
     "output_type": "stream",
     "text": [
      "C:\\Users\\dhair\\AppData\\Local\\Programs\\Python\\Python310\\lib\\site-packages\\tqdm\\auto.py:21: TqdmWarning: IProgress not found. Please update jupyter and ipywidgets. See https://ipywidgets.readthedocs.io/en/stable/user_install.html\n",
      "  from .autonotebook import tqdm as notebook_tqdm\n"
     ]
    },
    {
     "name": "stdout",
     "output_type": "stream",
     "text": [
      "Path to dataset files: C:\\Users\\dhair\\.cache\\kagglehub\\datasets\\nelgiriyewithana\\most-streamed-spotify-songs-2024\\versions\\1\n"
     ]
    }
   ],
   "source": [
    "import kagglehub\n",
    "\n",
    "# Download latest version\n",
    "path = kagglehub.dataset_download(\"nelgiriyewithana/most-streamed-spotify-songs-2024\")\n",
    "\n",
    "print(\"Path to dataset files:\", path)"
   ]
  },
  {
   "cell_type": "code",
   "execution_count": 26,
   "id": "4b04d486-f794-4afc-a317-2e661bf270f2",
   "metadata": {},
   "outputs": [],
   "source": [
    "og_spotify_data=pd.read_csv(\"C:/Documents/ME/DATA Analytics Journey/Spotify Analysis/Most Streamed Spotify Songs 2024.csv\",encoding='latin1')"
   ]
  },
  {
   "cell_type": "code",
   "execution_count": 23,
   "id": "11f1df96-62bf-4715-8415-cf222a5d66a7",
   "metadata": {},
   "outputs": [],
   "source": [
    "import pandas as pd\n",
    "import numpy as np"
   ]
  },
  {
   "cell_type": "code",
   "execution_count": 24,
   "id": "a1f2b097-1cd4-4678-a0f4-dfb73959821a",
   "metadata": {},
   "outputs": [],
   "source": [
    "import spotipy\n",
    "from spotipy.oauth2 import SpotifyClientCredentials"
   ]
  },
  {
   "cell_type": "code",
   "execution_count": 31,
   "id": "a528bde9-73d1-4b2c-9d3c-f5791299ee78",
   "metadata": {},
   "outputs": [
    {
     "data": {
      "text/html": [
       "<div>\n",
       "<style scoped>\n",
       "    .dataframe tbody tr th:only-of-type {\n",
       "        vertical-align: middle;\n",
       "    }\n",
       "\n",
       "    .dataframe tbody tr th {\n",
       "        vertical-align: top;\n",
       "    }\n",
       "\n",
       "    .dataframe thead th {\n",
       "        text-align: right;\n",
       "    }\n",
       "</style>\n",
       "<table border=\"1\" class=\"dataframe\">\n",
       "  <thead>\n",
       "    <tr style=\"text-align: right;\">\n",
       "      <th></th>\n",
       "      <th>Track</th>\n",
       "      <th>Album Name</th>\n",
       "      <th>Artist</th>\n",
       "      <th>Release Date</th>\n",
       "      <th>ISRC</th>\n",
       "      <th>All Time Rank</th>\n",
       "      <th>Track Score</th>\n",
       "      <th>Spotify Streams</th>\n",
       "      <th>Spotify Playlist Count</th>\n",
       "      <th>Spotify Playlist Reach</th>\n",
       "      <th>...</th>\n",
       "      <th>SiriusXM Spins</th>\n",
       "      <th>Deezer Playlist Count</th>\n",
       "      <th>Deezer Playlist Reach</th>\n",
       "      <th>Amazon Playlist Count</th>\n",
       "      <th>Pandora Streams</th>\n",
       "      <th>Pandora Track Stations</th>\n",
       "      <th>Soundcloud Streams</th>\n",
       "      <th>Shazam Counts</th>\n",
       "      <th>TIDAL Popularity</th>\n",
       "      <th>Explicit Track</th>\n",
       "    </tr>\n",
       "  </thead>\n",
       "  <tbody>\n",
       "    <tr>\n",
       "      <th>0</th>\n",
       "      <td>MILLION DOLLAR BABY</td>\n",
       "      <td>Million Dollar Baby - Single</td>\n",
       "      <td>Tommy Richman</td>\n",
       "      <td>4/26/2024</td>\n",
       "      <td>QM24S2402528</td>\n",
       "      <td>1</td>\n",
       "      <td>725.4</td>\n",
       "      <td>390,470,936</td>\n",
       "      <td>30,716</td>\n",
       "      <td>196,631,588</td>\n",
       "      <td>...</td>\n",
       "      <td>684</td>\n",
       "      <td>62.0</td>\n",
       "      <td>17,598,718</td>\n",
       "      <td>114.0</td>\n",
       "      <td>18,004,655</td>\n",
       "      <td>22,931</td>\n",
       "      <td>4,818,457</td>\n",
       "      <td>2,669,262</td>\n",
       "      <td>NaN</td>\n",
       "      <td>0</td>\n",
       "    </tr>\n",
       "    <tr>\n",
       "      <th>1</th>\n",
       "      <td>Not Like Us</td>\n",
       "      <td>Not Like Us</td>\n",
       "      <td>Kendrick Lamar</td>\n",
       "      <td>5/4/2024</td>\n",
       "      <td>USUG12400910</td>\n",
       "      <td>2</td>\n",
       "      <td>545.9</td>\n",
       "      <td>323,703,884</td>\n",
       "      <td>28,113</td>\n",
       "      <td>174,597,137</td>\n",
       "      <td>...</td>\n",
       "      <td>3</td>\n",
       "      <td>67.0</td>\n",
       "      <td>10,422,430</td>\n",
       "      <td>111.0</td>\n",
       "      <td>7,780,028</td>\n",
       "      <td>28,444</td>\n",
       "      <td>6,623,075</td>\n",
       "      <td>1,118,279</td>\n",
       "      <td>NaN</td>\n",
       "      <td>1</td>\n",
       "    </tr>\n",
       "    <tr>\n",
       "      <th>2</th>\n",
       "      <td>i like the way you kiss me</td>\n",
       "      <td>I like the way you kiss me</td>\n",
       "      <td>Artemas</td>\n",
       "      <td>3/19/2024</td>\n",
       "      <td>QZJ842400387</td>\n",
       "      <td>3</td>\n",
       "      <td>538.4</td>\n",
       "      <td>601,309,283</td>\n",
       "      <td>54,331</td>\n",
       "      <td>211,607,669</td>\n",
       "      <td>...</td>\n",
       "      <td>536</td>\n",
       "      <td>136.0</td>\n",
       "      <td>36,321,847</td>\n",
       "      <td>172.0</td>\n",
       "      <td>5,022,621</td>\n",
       "      <td>5,639</td>\n",
       "      <td>7,208,651</td>\n",
       "      <td>5,285,340</td>\n",
       "      <td>NaN</td>\n",
       "      <td>0</td>\n",
       "    </tr>\n",
       "    <tr>\n",
       "      <th>3</th>\n",
       "      <td>Flowers</td>\n",
       "      <td>Flowers - Single</td>\n",
       "      <td>Miley Cyrus</td>\n",
       "      <td>1/12/2023</td>\n",
       "      <td>USSM12209777</td>\n",
       "      <td>4</td>\n",
       "      <td>444.9</td>\n",
       "      <td>2,031,280,633</td>\n",
       "      <td>269,802</td>\n",
       "      <td>136,569,078</td>\n",
       "      <td>...</td>\n",
       "      <td>2,182</td>\n",
       "      <td>264.0</td>\n",
       "      <td>24,684,248</td>\n",
       "      <td>210.0</td>\n",
       "      <td>190,260,277</td>\n",
       "      <td>203,384</td>\n",
       "      <td>NaN</td>\n",
       "      <td>11,822,942</td>\n",
       "      <td>NaN</td>\n",
       "      <td>0</td>\n",
       "    </tr>\n",
       "    <tr>\n",
       "      <th>4</th>\n",
       "      <td>Houdini</td>\n",
       "      <td>Houdini</td>\n",
       "      <td>Eminem</td>\n",
       "      <td>5/31/2024</td>\n",
       "      <td>USUG12403398</td>\n",
       "      <td>5</td>\n",
       "      <td>423.3</td>\n",
       "      <td>107,034,922</td>\n",
       "      <td>7,223</td>\n",
       "      <td>151,469,874</td>\n",
       "      <td>...</td>\n",
       "      <td>1</td>\n",
       "      <td>82.0</td>\n",
       "      <td>17,660,624</td>\n",
       "      <td>105.0</td>\n",
       "      <td>4,493,884</td>\n",
       "      <td>7,006</td>\n",
       "      <td>207,179</td>\n",
       "      <td>457,017</td>\n",
       "      <td>NaN</td>\n",
       "      <td>1</td>\n",
       "    </tr>\n",
       "  </tbody>\n",
       "</table>\n",
       "<p>5 rows × 29 columns</p>\n",
       "</div>"
      ],
      "text/plain": [
       "                        Track                    Album Name          Artist  \\\n",
       "0         MILLION DOLLAR BABY  Million Dollar Baby - Single   Tommy Richman   \n",
       "1                 Not Like Us                   Not Like Us  Kendrick Lamar   \n",
       "2  i like the way you kiss me    I like the way you kiss me         Artemas   \n",
       "3                     Flowers              Flowers - Single     Miley Cyrus   \n",
       "4                     Houdini                       Houdini          Eminem   \n",
       "\n",
       "  Release Date          ISRC All Time Rank  Track Score Spotify Streams  \\\n",
       "0    4/26/2024  QM24S2402528             1        725.4     390,470,936   \n",
       "1     5/4/2024  USUG12400910             2        545.9     323,703,884   \n",
       "2    3/19/2024  QZJ842400387             3        538.4     601,309,283   \n",
       "3    1/12/2023  USSM12209777             4        444.9   2,031,280,633   \n",
       "4    5/31/2024  USUG12403398             5        423.3     107,034,922   \n",
       "\n",
       "  Spotify Playlist Count Spotify Playlist Reach  ...  SiriusXM Spins  \\\n",
       "0                 30,716            196,631,588  ...             684   \n",
       "1                 28,113            174,597,137  ...               3   \n",
       "2                 54,331            211,607,669  ...             536   \n",
       "3                269,802            136,569,078  ...           2,182   \n",
       "4                  7,223            151,469,874  ...               1   \n",
       "\n",
       "  Deezer Playlist Count Deezer Playlist Reach Amazon Playlist Count  \\\n",
       "0                  62.0            17,598,718                 114.0   \n",
       "1                  67.0            10,422,430                 111.0   \n",
       "2                 136.0            36,321,847                 172.0   \n",
       "3                 264.0            24,684,248                 210.0   \n",
       "4                  82.0            17,660,624                 105.0   \n",
       "\n",
       "  Pandora Streams Pandora Track Stations Soundcloud Streams  Shazam Counts  \\\n",
       "0      18,004,655                 22,931          4,818,457      2,669,262   \n",
       "1       7,780,028                 28,444          6,623,075      1,118,279   \n",
       "2       5,022,621                  5,639          7,208,651      5,285,340   \n",
       "3     190,260,277                203,384                NaN     11,822,942   \n",
       "4       4,493,884                  7,006            207,179        457,017   \n",
       "\n",
       "  TIDAL Popularity Explicit Track  \n",
       "0              NaN              0  \n",
       "1              NaN              1  \n",
       "2              NaN              0  \n",
       "3              NaN              0  \n",
       "4              NaN              1  \n",
       "\n",
       "[5 rows x 29 columns]"
      ]
     },
     "execution_count": 31,
     "metadata": {},
     "output_type": "execute_result"
    }
   ],
   "source": [
    "og_spotify_data.head()"
   ]
  },
  {
   "cell_type": "code",
   "execution_count": 93,
   "id": "ec1e22d0-9b2b-4342-9e4c-76ed17f28c36",
   "metadata": {},
   "outputs": [
    {
     "name": "stdout",
     "output_type": "stream",
     "text": [
      "<class 'pandas.core.frame.DataFrame'>\n",
      "RangeIndex: 4600 entries, 0 to 4599\n",
      "Data columns (total 13 columns):\n",
      " #   Column                  Non-Null Count  Dtype  \n",
      "---  ------                  --------------  -----  \n",
      " 0   Track                   4600 non-null   object \n",
      " 1   Album Name              4600 non-null   object \n",
      " 2   Artist                  4595 non-null   object \n",
      " 3   Release Date            4600 non-null   object \n",
      " 4   ISRC                    4600 non-null   object \n",
      " 5   All Time Rank           4600 non-null   object \n",
      " 6   Track Score             4600 non-null   float64\n",
      " 7   Spotify Streams         4487 non-null   object \n",
      " 8   Spotify Playlist Count  4530 non-null   object \n",
      " 9   Spotify Playlist Reach  4528 non-null   object \n",
      " 10  Spotify Popularity      3796 non-null   float64\n",
      " 11  YouTube Views           4292 non-null   object \n",
      " 12  Shazam Counts           4023 non-null   object \n",
      "dtypes: float64(2), object(11)\n",
      "memory usage: 467.3+ KB\n"
     ]
    }
   ],
   "source": [
    "spotify_data.info()"
   ]
  },
  {
   "cell_type": "code",
   "execution_count": 95,
   "id": "9281d192-d31f-4a28-8b5d-eaf42ed22ebb",
   "metadata": {},
   "outputs": [],
   "source": [
    "columns_to_clean = ['Spotify Streams', 'YouTube Views', 'Shazam Counts','All Time Rank','Spotify Playlist Count','Spotify Playlist Reach']\n",
    "for col in columns_to_clean:\n",
    "        spotify_data[col] = spotify_data[col].str.replace(\",\", \"\", regex=True)"
   ]
  },
  {
   "cell_type": "code",
   "execution_count": 96,
   "id": "2d14c427-71f5-4603-931a-5b7243fe8cf5",
   "metadata": {},
   "outputs": [],
   "source": [
    "spotify_data=spotify_data.astype({\n",
    "    'Release Date':'datetime64[ns]',\n",
    "    'All Time Rank':'float64',\n",
    "    'Spotify Streams':'float64',\n",
    "    'Spotify Playlist Count':'float64',\n",
    "    'Spotify Playlist Reach':'float64',\n",
    "    'YouTube Views':'float64',\n",
    "    'Shazam Counts':'float64'})"
   ]
  },
  {
   "cell_type": "code",
   "execution_count": 97,
   "id": "4ac79a2b-b0ca-4c2d-997d-eb8972f68e8b",
   "metadata": {},
   "outputs": [
    {
     "name": "stdout",
     "output_type": "stream",
     "text": [
      "<class 'pandas.core.frame.DataFrame'>\n",
      "RangeIndex: 4600 entries, 0 to 4599\n",
      "Data columns (total 13 columns):\n",
      " #   Column                  Non-Null Count  Dtype         \n",
      "---  ------                  --------------  -----         \n",
      " 0   Track                   4600 non-null   object        \n",
      " 1   Album Name              4600 non-null   object        \n",
      " 2   Artist                  4595 non-null   object        \n",
      " 3   Release Date            4600 non-null   datetime64[ns]\n",
      " 4   ISRC                    4600 non-null   object        \n",
      " 5   All Time Rank           4600 non-null   float64       \n",
      " 6   Track Score             4600 non-null   float64       \n",
      " 7   Spotify Streams         4487 non-null   float64       \n",
      " 8   Spotify Playlist Count  4530 non-null   float64       \n",
      " 9   Spotify Playlist Reach  4528 non-null   float64       \n",
      " 10  Spotify Popularity      3796 non-null   float64       \n",
      " 11  YouTube Views           4292 non-null   float64       \n",
      " 12  Shazam Counts           4023 non-null   float64       \n",
      "dtypes: datetime64[ns](1), float64(8), object(4)\n",
      "memory usage: 467.3+ KB\n"
     ]
    }
   ],
   "source": [
    "spotify_data.info()"
   ]
  },
  {
   "cell_type": "code",
   "execution_count": 98,
   "id": "a86949ad-7cd2-481a-b8e4-1ecf876bf173",
   "metadata": {},
   "outputs": [
    {
     "data": {
      "text/plain": [
       "Track                       0\n",
       "Album Name                  0\n",
       "Artist                      5\n",
       "Release Date                0\n",
       "ISRC                        0\n",
       "All Time Rank               0\n",
       "Track Score                 0\n",
       "Spotify Streams           113\n",
       "Spotify Playlist Count     70\n",
       "Spotify Playlist Reach     72\n",
       "Spotify Popularity        804\n",
       "YouTube Views             308\n",
       "Shazam Counts             577\n",
       "dtype: int64"
      ]
     },
     "execution_count": 98,
     "metadata": {},
     "output_type": "execute_result"
    }
   ],
   "source": [
    "spotify_data.isnull().sum()"
   ]
  },
  {
   "cell_type": "code",
   "execution_count": 99,
   "id": "e0084773-272b-4a78-84d7-d994b637aab9",
   "metadata": {},
   "outputs": [],
   "source": [
    "spotify_data=spotify_data.dropna(subset=['Artist'])\n",
    "\n",
    "# Fill with the median\n",
    "spotify_data['Spotify Streams']=spotify_data['Spotify Streams'].fillna(spotify_data['Spotify Streams'].median())\n",
    "spotify_data['Spotify Playlist Count'] = spotify_data['Spotify Playlist Count'].fillna(spotify_data['Spotify Playlist Count'].median())\n",
    "spotify_data['Spotify Playlist Reach'] = spotify_data['Spotify Playlist Reach'].fillna(spotify_data['Spotify Playlist Reach'].median())\n",
    "spotify_data['Spotify Popularity'] = spotify_data['Spotify Popularity'].fillna(spotify_data['Spotify Popularity'].median())\n",
    "# Fill with the median\n",
    "spotify_data['YouTube Views'] = spotify_data['YouTube Views'].fillna(spotify_data['YouTube Views'].median())\n",
    "# Fill with the median\n",
    "spotify_data['Shazam Counts'] = spotify_data['Shazam Counts'].fillna(spotify_data['Shazam Counts'].median())"
   ]
  },
  {
   "cell_type": "code",
   "execution_count": 100,
   "id": "e626e35b-e3fb-4462-9449-4f3eb7f9bf74",
   "metadata": {},
   "outputs": [
    {
     "data": {
      "text/plain": [
       "Track                     0\n",
       "Album Name                0\n",
       "Artist                    0\n",
       "Release Date              0\n",
       "ISRC                      0\n",
       "All Time Rank             0\n",
       "Track Score               0\n",
       "Spotify Streams           0\n",
       "Spotify Playlist Count    0\n",
       "Spotify Playlist Reach    0\n",
       "Spotify Popularity        0\n",
       "YouTube Views             0\n",
       "Shazam Counts             0\n",
       "dtype: int64"
      ]
     },
     "execution_count": 100,
     "metadata": {},
     "output_type": "execute_result"
    }
   ],
   "source": [
    "spotify_data.isnull().sum()"
   ]
  },
  {
   "cell_type": "code",
   "execution_count": 102,
   "id": "bc9a3cff-c190-4180-9ee8-468f26367cd6",
   "metadata": {},
   "outputs": [
    {
     "name": "stdout",
     "output_type": "stream",
     "text": [
      "<class 'pandas.core.frame.DataFrame'>\n",
      "Index: 4595 entries, 0 to 4599\n",
      "Data columns (total 13 columns):\n",
      " #   Column                  Non-Null Count  Dtype         \n",
      "---  ------                  --------------  -----         \n",
      " 0   Track                   4595 non-null   object        \n",
      " 1   Album Name              4595 non-null   object        \n",
      " 2   Artist                  4595 non-null   object        \n",
      " 3   Release Date            4595 non-null   datetime64[ns]\n",
      " 4   ISRC                    4595 non-null   object        \n",
      " 5   All Time Rank           4595 non-null   float64       \n",
      " 6   Track Score             4595 non-null   float64       \n",
      " 7   Spotify Streams         4595 non-null   float64       \n",
      " 8   Spotify Playlist Count  4595 non-null   float64       \n",
      " 9   Spotify Playlist Reach  4595 non-null   float64       \n",
      " 10  Spotify Popularity      4595 non-null   float64       \n",
      " 11  YouTube Views           4595 non-null   float64       \n",
      " 12  Shazam Counts           4595 non-null   float64       \n",
      "dtypes: datetime64[ns](1), float64(8), object(4)\n",
      "memory usage: 502.6+ KB\n"
     ]
    }
   ],
   "source": [
    "spotify_data.info()"
   ]
  },
  {
   "cell_type": "code",
   "execution_count": 103,
   "id": "0ae5a899-aac2-41ee-88f5-21f51f732762",
   "metadata": {},
   "outputs": [],
   "source": [
    "CLIENT_ID=\"b26374f778744f2895ac3a8a498dc842\"\n",
    "CLIENT_SECRET=\"4d832a20205543539bad867a1792a40a\"\n",
    "\n",
    "client_credentials_manager=SpotifyClientCredentials(client_id=CLIENT_ID,client_secret=CLIENT_SECRET)\n",
    "sp=spotipy.Spotify(client_credentials_manager=client_credentials_manager)"
   ]
  },
  {
   "cell_type": "code",
   "execution_count": 104,
   "id": "1bb65143-4fb1-42e6-a9fc-b35b873647d2",
   "metadata": {},
   "outputs": [
    {
     "name": "stderr",
     "output_type": "stream",
     "text": [
      " 49%|████████████████████████████████████▉                                       | 2230/4595 [08:34<1:05:13,  1.65s/it]"
     ]
    },
    {
     "name": "stdout",
     "output_type": "stream",
     "text": [
      "Error while fetching url for Starships by Nicki Minaj: HTTPSConnectionPool(host='api.spotify.com', port=443): Read timed out. (read timeout=5)\n"
     ]
    },
    {
     "name": "stderr",
     "output_type": "stream",
     "text": [
      "100%|██████████████████████████████████████████████████████████████████████████████| 4595/4595 [17:52<00:00,  4.29it/s]"
     ]
    },
    {
     "name": "stdout",
     "output_type": "stream",
     "text": [
      "Updated dateset saved to path\n"
     ]
    },
    {
     "name": "stderr",
     "output_type": "stream",
     "text": [
      "\n"
     ]
    }
   ],
   "source": [
    "def get_spotify_url(track_name,artist_name):\n",
    "    try:\n",
    "        results=sp.search(q=f\"track:{track_name} artist:{artist_name}\",type=\"track\",limit=1)\n",
    "        if results['tracks']['items']:\n",
    "            return results['tracks']['items'][0]['external_urls']['spotify']\n",
    "        else:\n",
    "            return None\n",
    "    except Exception as e:\n",
    "        print(f\"Error while fetching url for {track_name} by {artist_name}: {e}\")\n",
    "\n",
    "#add column for url\n",
    "urls=[]\n",
    "for index, row in tqdm(spotify_data.iterrows(),total=len(spotify_data)):\n",
    "    track=row['Track']\n",
    "    artist=row['Artist']\n",
    "    urls.append(get_spotify_url(track,artist))\n",
    "\n",
    "spotify_data['Spotify URL']=urls\n",
    "output_path='path'\n",
    "spotify_data.to_csv(output_path, index=False, encoding='latin1')\n",
    "print(f\"Updated dateset saved to {output_path}\")"
   ]
  },
  {
   "cell_type": "code",
   "execution_count": 105,
   "id": "5a4c987b-7e5a-4b3a-bfbc-9faafefa3af9",
   "metadata": {},
   "outputs": [
    {
     "data": {
      "text/html": [
       "<div>\n",
       "<style scoped>\n",
       "    .dataframe tbody tr th:only-of-type {\n",
       "        vertical-align: middle;\n",
       "    }\n",
       "\n",
       "    .dataframe tbody tr th {\n",
       "        vertical-align: top;\n",
       "    }\n",
       "\n",
       "    .dataframe thead th {\n",
       "        text-align: right;\n",
       "    }\n",
       "</style>\n",
       "<table border=\"1\" class=\"dataframe\">\n",
       "  <thead>\n",
       "    <tr style=\"text-align: right;\">\n",
       "      <th></th>\n",
       "      <th>Track</th>\n",
       "      <th>Album Name</th>\n",
       "      <th>Artist</th>\n",
       "      <th>Release Date</th>\n",
       "      <th>ISRC</th>\n",
       "      <th>All Time Rank</th>\n",
       "      <th>Track Score</th>\n",
       "      <th>Spotify Streams</th>\n",
       "      <th>Spotify Playlist Count</th>\n",
       "      <th>Spotify Playlist Reach</th>\n",
       "      <th>Spotify Popularity</th>\n",
       "      <th>YouTube Views</th>\n",
       "      <th>Shazam Counts</th>\n",
       "      <th>Spotify URL</th>\n",
       "    </tr>\n",
       "  </thead>\n",
       "  <tbody>\n",
       "    <tr>\n",
       "      <th>0</th>\n",
       "      <td>MILLION DOLLAR BABY</td>\n",
       "      <td>Million Dollar Baby - Single</td>\n",
       "      <td>Tommy Richman</td>\n",
       "      <td>2024-04-26</td>\n",
       "      <td>QM24S2402528</td>\n",
       "      <td>1.0</td>\n",
       "      <td>725.4</td>\n",
       "      <td>3.904709e+08</td>\n",
       "      <td>30716.0</td>\n",
       "      <td>196631588.0</td>\n",
       "      <td>92.0</td>\n",
       "      <td>8.427475e+07</td>\n",
       "      <td>2669262.0</td>\n",
       "      <td>https://open.spotify.com/track/5AJ9hqTS2wcFQCE...</td>\n",
       "    </tr>\n",
       "    <tr>\n",
       "      <th>1</th>\n",
       "      <td>Not Like Us</td>\n",
       "      <td>Not Like Us</td>\n",
       "      <td>Kendrick Lamar</td>\n",
       "      <td>2024-05-04</td>\n",
       "      <td>USUG12400910</td>\n",
       "      <td>2.0</td>\n",
       "      <td>545.9</td>\n",
       "      <td>3.237039e+08</td>\n",
       "      <td>28113.0</td>\n",
       "      <td>174597137.0</td>\n",
       "      <td>92.0</td>\n",
       "      <td>1.163470e+08</td>\n",
       "      <td>1118279.0</td>\n",
       "      <td>https://open.spotify.com/track/6AI3ezQ4o3HUoP6...</td>\n",
       "    </tr>\n",
       "    <tr>\n",
       "      <th>2</th>\n",
       "      <td>i like the way you kiss me</td>\n",
       "      <td>I like the way you kiss me</td>\n",
       "      <td>Artemas</td>\n",
       "      <td>2024-03-19</td>\n",
       "      <td>QZJ842400387</td>\n",
       "      <td>3.0</td>\n",
       "      <td>538.4</td>\n",
       "      <td>6.013093e+08</td>\n",
       "      <td>54331.0</td>\n",
       "      <td>211607669.0</td>\n",
       "      <td>92.0</td>\n",
       "      <td>1.225991e+08</td>\n",
       "      <td>5285340.0</td>\n",
       "      <td>https://open.spotify.com/track/2GxrNKugF82CnoR...</td>\n",
       "    </tr>\n",
       "    <tr>\n",
       "      <th>3</th>\n",
       "      <td>Flowers</td>\n",
       "      <td>Flowers - Single</td>\n",
       "      <td>Miley Cyrus</td>\n",
       "      <td>2023-01-12</td>\n",
       "      <td>USSM12209777</td>\n",
       "      <td>4.0</td>\n",
       "      <td>444.9</td>\n",
       "      <td>2.031281e+09</td>\n",
       "      <td>269802.0</td>\n",
       "      <td>136569078.0</td>\n",
       "      <td>85.0</td>\n",
       "      <td>1.096101e+09</td>\n",
       "      <td>11822942.0</td>\n",
       "      <td>https://open.spotify.com/track/7DSAEUvxU8FajXt...</td>\n",
       "    </tr>\n",
       "    <tr>\n",
       "      <th>4</th>\n",
       "      <td>Houdini</td>\n",
       "      <td>Houdini</td>\n",
       "      <td>Eminem</td>\n",
       "      <td>2024-05-31</td>\n",
       "      <td>USUG12403398</td>\n",
       "      <td>5.0</td>\n",
       "      <td>423.3</td>\n",
       "      <td>1.070349e+08</td>\n",
       "      <td>7223.0</td>\n",
       "      <td>151469874.0</td>\n",
       "      <td>88.0</td>\n",
       "      <td>7.737396e+07</td>\n",
       "      <td>457017.0</td>\n",
       "      <td>https://open.spotify.com/track/1CDQzbCz4KSQxHe...</td>\n",
       "    </tr>\n",
       "  </tbody>\n",
       "</table>\n",
       "</div>"
      ],
      "text/plain": [
       "                        Track                    Album Name          Artist  \\\n",
       "0         MILLION DOLLAR BABY  Million Dollar Baby - Single   Tommy Richman   \n",
       "1                 Not Like Us                   Not Like Us  Kendrick Lamar   \n",
       "2  i like the way you kiss me    I like the way you kiss me         Artemas   \n",
       "3                     Flowers              Flowers - Single     Miley Cyrus   \n",
       "4                     Houdini                       Houdini          Eminem   \n",
       "\n",
       "  Release Date          ISRC  All Time Rank  Track Score  Spotify Streams  \\\n",
       "0   2024-04-26  QM24S2402528            1.0        725.4     3.904709e+08   \n",
       "1   2024-05-04  USUG12400910            2.0        545.9     3.237039e+08   \n",
       "2   2024-03-19  QZJ842400387            3.0        538.4     6.013093e+08   \n",
       "3   2023-01-12  USSM12209777            4.0        444.9     2.031281e+09   \n",
       "4   2024-05-31  USUG12403398            5.0        423.3     1.070349e+08   \n",
       "\n",
       "   Spotify Playlist Count  Spotify Playlist Reach  Spotify Popularity  \\\n",
       "0                 30716.0             196631588.0                92.0   \n",
       "1                 28113.0             174597137.0                92.0   \n",
       "2                 54331.0             211607669.0                92.0   \n",
       "3                269802.0             136569078.0                85.0   \n",
       "4                  7223.0             151469874.0                88.0   \n",
       "\n",
       "   YouTube Views  Shazam Counts  \\\n",
       "0   8.427475e+07      2669262.0   \n",
       "1   1.163470e+08      1118279.0   \n",
       "2   1.225991e+08      5285340.0   \n",
       "3   1.096101e+09     11822942.0   \n",
       "4   7.737396e+07       457017.0   \n",
       "\n",
       "                                         Spotify URL  \n",
       "0  https://open.spotify.com/track/5AJ9hqTS2wcFQCE...  \n",
       "1  https://open.spotify.com/track/6AI3ezQ4o3HUoP6...  \n",
       "2  https://open.spotify.com/track/2GxrNKugF82CnoR...  \n",
       "3  https://open.spotify.com/track/7DSAEUvxU8FajXt...  \n",
       "4  https://open.spotify.com/track/1CDQzbCz4KSQxHe...  "
      ]
     },
     "execution_count": 105,
     "metadata": {},
     "output_type": "execute_result"
    }
   ],
   "source": [
    "spotify_data.head()"
   ]
  },
  {
   "cell_type": "code",
   "execution_count": 106,
   "id": "3cae4c91-98de-4f50-950c-2daf07349246",
   "metadata": {},
   "outputs": [
    {
     "data": {
      "text/plain": [
       "Track                       0\n",
       "Album Name                  0\n",
       "Artist                      0\n",
       "Release Date                0\n",
       "ISRC                        0\n",
       "All Time Rank               0\n",
       "Track Score                 0\n",
       "Spotify Streams             0\n",
       "Spotify Playlist Count      0\n",
       "Spotify Playlist Reach      0\n",
       "Spotify Popularity          0\n",
       "YouTube Views               0\n",
       "Shazam Counts               0\n",
       "Spotify URL               585\n",
       "dtype: int64"
      ]
     },
     "execution_count": 106,
     "metadata": {},
     "output_type": "execute_result"
    }
   ],
   "source": [
    "spotify_data.isnull().sum()"
   ]
  },
  {
   "cell_type": "code",
   "execution_count": 108,
   "id": "a1ef1248-9f2a-423f-a8a4-87d6a5568927",
   "metadata": {},
   "outputs": [],
   "source": [
    "spotify_data=spotify_data.dropna(subset=['Spotify URL'])"
   ]
  },
  {
   "cell_type": "code",
   "execution_count": 109,
   "id": "742aa5f8-f4d2-4e56-aa74-872f0212bcbf",
   "metadata": {},
   "outputs": [
    {
     "data": {
      "text/plain": [
       "Track                     0\n",
       "Album Name                0\n",
       "Artist                    0\n",
       "Release Date              0\n",
       "ISRC                      0\n",
       "All Time Rank             0\n",
       "Track Score               0\n",
       "Spotify Streams           0\n",
       "Spotify Playlist Count    0\n",
       "Spotify Playlist Reach    0\n",
       "Spotify Popularity        0\n",
       "YouTube Views             0\n",
       "Shazam Counts             0\n",
       "Spotify URL               0\n",
       "dtype: int64"
      ]
     },
     "execution_count": 109,
     "metadata": {},
     "output_type": "execute_result"
    }
   ],
   "source": [
    "spotify_data.isnull().sum()"
   ]
  },
  {
   "cell_type": "code",
   "execution_count": 110,
   "id": "96bb6b4b-bf02-442d-b54d-4f44244db9f5",
   "metadata": {},
   "outputs": [
    {
     "name": "stdout",
     "output_type": "stream",
     "text": [
      "Dataset saved successfully!\n"
     ]
    }
   ],
   "source": [
    "spotify_data.to_csv(\"C:/Documents/ME/DATA Analytics Journey/Spotify Analysis/Updated_spotify_data.csv\",index=False)\n",
    "print(\"Dataset saved successfully!\")"
   ]
  },
  {
   "cell_type": "code",
   "execution_count": null,
   "id": "67395cb9-fba4-46aa-a718-b5e22e5ee5d0",
   "metadata": {},
   "outputs": [],
   "source": []
  }
 ],
 "metadata": {
  "kernelspec": {
   "display_name": "Python 3 (ipykernel)",
   "language": "python",
   "name": "python3"
  },
  "language_info": {
   "codemirror_mode": {
    "name": "ipython",
    "version": 3
   },
   "file_extension": ".py",
   "mimetype": "text/x-python",
   "name": "python",
   "nbconvert_exporter": "python",
   "pygments_lexer": "ipython3",
   "version": "3.10.7"
  }
 },
 "nbformat": 4,
 "nbformat_minor": 5
}
